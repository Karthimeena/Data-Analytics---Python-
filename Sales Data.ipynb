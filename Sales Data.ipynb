{
 "cells": [
  {
   "cell_type": "code",
   "execution_count": 2,
   "id": "3bb77094",
   "metadata": {
    "scrolled": true
   },
   "outputs": [
    {
     "data": {
      "text/html": [
       "<div>\n",
       "<style scoped>\n",
       "    .dataframe tbody tr th:only-of-type {\n",
       "        vertical-align: middle;\n",
       "    }\n",
       "\n",
       "    .dataframe tbody tr th {\n",
       "        vertical-align: top;\n",
       "    }\n",
       "\n",
       "    .dataframe thead th {\n",
       "        text-align: right;\n",
       "    }\n",
       "</style>\n",
       "<table border=\"1\" class=\"dataframe\">\n",
       "  <thead>\n",
       "    <tr style=\"text-align: right;\">\n",
       "      <th></th>\n",
       "      <th>Transaction ID</th>\n",
       "      <th>Date</th>\n",
       "      <th>Product Category</th>\n",
       "      <th>Product Name</th>\n",
       "      <th>Units Sold</th>\n",
       "      <th>Unit Price</th>\n",
       "      <th>Total Revenue</th>\n",
       "      <th>Region</th>\n",
       "      <th>Payment Method</th>\n",
       "    </tr>\n",
       "  </thead>\n",
       "  <tbody>\n",
       "    <tr>\n",
       "      <th>0</th>\n",
       "      <td>10001</td>\n",
       "      <td>2024-01-01</td>\n",
       "      <td>Electronics</td>\n",
       "      <td>iPhone 14 Pro</td>\n",
       "      <td>2</td>\n",
       "      <td>999.99</td>\n",
       "      <td>1999.98</td>\n",
       "      <td>North America</td>\n",
       "      <td>Credit Card</td>\n",
       "    </tr>\n",
       "    <tr>\n",
       "      <th>1</th>\n",
       "      <td>10002</td>\n",
       "      <td>2024-01-02</td>\n",
       "      <td>Home Appliances</td>\n",
       "      <td>Dyson V11 Vacuum</td>\n",
       "      <td>1</td>\n",
       "      <td>499.99</td>\n",
       "      <td>499.99</td>\n",
       "      <td>Europe</td>\n",
       "      <td>PayPal</td>\n",
       "    </tr>\n",
       "    <tr>\n",
       "      <th>2</th>\n",
       "      <td>10003</td>\n",
       "      <td>2024-01-03</td>\n",
       "      <td>Clothing</td>\n",
       "      <td>Levi's 501 Jeans</td>\n",
       "      <td>3</td>\n",
       "      <td>69.99</td>\n",
       "      <td>209.97</td>\n",
       "      <td>Asia</td>\n",
       "      <td>Debit Card</td>\n",
       "    </tr>\n",
       "    <tr>\n",
       "      <th>3</th>\n",
       "      <td>10004</td>\n",
       "      <td>2024-01-04</td>\n",
       "      <td>Books</td>\n",
       "      <td>The Da Vinci Code</td>\n",
       "      <td>4</td>\n",
       "      <td>15.99</td>\n",
       "      <td>63.96</td>\n",
       "      <td>North America</td>\n",
       "      <td>Credit Card</td>\n",
       "    </tr>\n",
       "  </tbody>\n",
       "</table>\n",
       "</div>"
      ],
      "text/plain": [
       "   Transaction ID        Date Product Category       Product Name  Units Sold  \\\n",
       "0           10001  2024-01-01      Electronics      iPhone 14 Pro           2   \n",
       "1           10002  2024-01-02  Home Appliances   Dyson V11 Vacuum           1   \n",
       "2           10003  2024-01-03         Clothing   Levi's 501 Jeans           3   \n",
       "3           10004  2024-01-04            Books  The Da Vinci Code           4   \n",
       "\n",
       "   Unit Price  Total Revenue         Region Payment Method  \n",
       "0      999.99        1999.98  North America    Credit Card  \n",
       "1      499.99         499.99         Europe         PayPal  \n",
       "2       69.99         209.97           Asia     Debit Card  \n",
       "3       15.99          63.96  North America    Credit Card  "
      ]
     },
     "execution_count": 2,
     "metadata": {},
     "output_type": "execute_result"
    }
   ],
   "source": [
    "import pandas as pd\n",
    "import matplotlib as plt\n",
    "\n",
    "df_Sales = pd.read_csv(\"Online Sales Data.csv\")\n",
    "df_Sales.head(4)"
   ]
  },
  {
   "cell_type": "markdown",
   "id": "3005db85",
   "metadata": {},
   "source": [
    "**Renaming the column names- Removing space**"
   ]
  },
  {
   "cell_type": "code",
   "execution_count": 3,
   "id": "40f977f3",
   "metadata": {},
   "outputs": [
    {
     "data": {
      "text/html": [
       "<div>\n",
       "<style scoped>\n",
       "    .dataframe tbody tr th:only-of-type {\n",
       "        vertical-align: middle;\n",
       "    }\n",
       "\n",
       "    .dataframe tbody tr th {\n",
       "        vertical-align: top;\n",
       "    }\n",
       "\n",
       "    .dataframe thead th {\n",
       "        text-align: right;\n",
       "    }\n",
       "</style>\n",
       "<table border=\"1\" class=\"dataframe\">\n",
       "  <thead>\n",
       "    <tr style=\"text-align: right;\">\n",
       "      <th></th>\n",
       "      <th>Transaction_ID</th>\n",
       "      <th>Date</th>\n",
       "      <th>Product_Category</th>\n",
       "      <th>Product_Name</th>\n",
       "      <th>Units_Sold</th>\n",
       "      <th>Unit_Price</th>\n",
       "      <th>Total_Revenue</th>\n",
       "      <th>Region</th>\n",
       "      <th>Payment_Method</th>\n",
       "    </tr>\n",
       "  </thead>\n",
       "  <tbody>\n",
       "    <tr>\n",
       "      <th>236</th>\n",
       "      <td>10237</td>\n",
       "      <td>2024-08-24</td>\n",
       "      <td>Clothing</td>\n",
       "      <td>Nike Air Force 1 Sneakers</td>\n",
       "      <td>3</td>\n",
       "      <td>90.00</td>\n",
       "      <td>270.00</td>\n",
       "      <td>Asia</td>\n",
       "      <td>Debit Card</td>\n",
       "    </tr>\n",
       "    <tr>\n",
       "      <th>237</th>\n",
       "      <td>10238</td>\n",
       "      <td>2024-08-25</td>\n",
       "      <td>Books</td>\n",
       "      <td>The Handmaid's Tale by Margaret Atwood</td>\n",
       "      <td>3</td>\n",
       "      <td>10.99</td>\n",
       "      <td>32.97</td>\n",
       "      <td>North America</td>\n",
       "      <td>Credit Card</td>\n",
       "    </tr>\n",
       "    <tr>\n",
       "      <th>238</th>\n",
       "      <td>10239</td>\n",
       "      <td>2024-08-26</td>\n",
       "      <td>Beauty Products</td>\n",
       "      <td>Sunday Riley Luna Sleeping Night Oil</td>\n",
       "      <td>1</td>\n",
       "      <td>55.00</td>\n",
       "      <td>55.00</td>\n",
       "      <td>Europe</td>\n",
       "      <td>PayPal</td>\n",
       "    </tr>\n",
       "    <tr>\n",
       "      <th>239</th>\n",
       "      <td>10240</td>\n",
       "      <td>2024-08-27</td>\n",
       "      <td>Sports</td>\n",
       "      <td>Yeti Rambler 20 oz Tumbler</td>\n",
       "      <td>2</td>\n",
       "      <td>29.99</td>\n",
       "      <td>59.98</td>\n",
       "      <td>Asia</td>\n",
       "      <td>Credit Card</td>\n",
       "    </tr>\n",
       "  </tbody>\n",
       "</table>\n",
       "</div>"
      ],
      "text/plain": [
       "     Transaction_ID        Date Product_Category  \\\n",
       "236           10237  2024-08-24         Clothing   \n",
       "237           10238  2024-08-25            Books   \n",
       "238           10239  2024-08-26  Beauty Products   \n",
       "239           10240  2024-08-27           Sports   \n",
       "\n",
       "                               Product_Name  Units_Sold  Unit_Price  \\\n",
       "236               Nike Air Force 1 Sneakers           3       90.00   \n",
       "237  The Handmaid's Tale by Margaret Atwood           3       10.99   \n",
       "238    Sunday Riley Luna Sleeping Night Oil           1       55.00   \n",
       "239              Yeti Rambler 20 oz Tumbler           2       29.99   \n",
       "\n",
       "     Total_Revenue         Region Payment_Method  \n",
       "236         270.00           Asia     Debit Card  \n",
       "237          32.97  North America    Credit Card  \n",
       "238          55.00         Europe         PayPal  \n",
       "239          59.98           Asia    Credit Card  "
      ]
     },
     "execution_count": 3,
     "metadata": {},
     "output_type": "execute_result"
    }
   ],
   "source": [
    "df_Sales.rename(columns={\n",
    "    'Transaction ID': 'Transaction_ID',\n",
    "    'Date':'Date',\n",
    "    'Product Category':'Product_Category',\n",
    "    'Product Name':'Product_Name',\n",
    "    'Units Sold':'Units_Sold',\n",
    "    'Unit Price':'Unit_Price',\n",
    "    'Total Revenue':'Total_Revenue',\n",
    "    'Region':'Region',\n",
    "    'Payment Method':'Payment_Method'\n",
    "}, inplace=True)\n",
    "\n",
    "df_Sales.tail(4)"
   ]
  },
  {
   "cell_type": "code",
   "execution_count": null,
   "id": "a1505d88",
   "metadata": {},
   "outputs": [],
   "source": []
  },
  {
   "cell_type": "markdown",
   "id": "1945eadb",
   "metadata": {},
   "source": [
    "**Changing the datatype of date column**"
   ]
  },
  {
   "cell_type": "code",
   "execution_count": 4,
   "id": "555ffd51",
   "metadata": {},
   "outputs": [
    {
     "name": "stdout",
     "output_type": "stream",
     "text": [
      "Transaction_ID        int64\n",
      "Date                 object\n",
      "Product_Category     object\n",
      "Product_Name         object\n",
      "Units_Sold            int64\n",
      "Unit_Price          float64\n",
      "Total_Revenue       float64\n",
      "Region               object\n",
      "Payment_Method       object\n",
      "dtype: object\n"
     ]
    }
   ],
   "source": [
    "print(df_Sales.dtypes)"
   ]
  },
  {
   "cell_type": "code",
   "execution_count": 5,
   "id": "41b96dd2",
   "metadata": {},
   "outputs": [],
   "source": [
    "df_Sales['Date'] = pd.to_datetime(df_Sales['Date'])"
   ]
  },
  {
   "cell_type": "code",
   "execution_count": 36,
   "id": "8b70de5a",
   "metadata": {},
   "outputs": [
    {
     "name": "stdout",
     "output_type": "stream",
     "text": [
      "Transaction_ID               int64\n",
      "Date                datetime64[ns]\n",
      "Product_Category            object\n",
      "Product_Name                object\n",
      "Units_Sold                   int64\n",
      "Unit_Price                 float64\n",
      "Total_Revenue              float64\n",
      "Region                      object\n",
      "Payment_Method              object\n",
      "dtype: object\n"
     ]
    }
   ],
   "source": [
    "print(df_Sales.dtypes)"
   ]
  },
  {
   "cell_type": "code",
   "execution_count": null,
   "id": "7fe567f3",
   "metadata": {},
   "outputs": [],
   "source": []
  },
  {
   "cell_type": "markdown",
   "id": "b1ab45ea",
   "metadata": {},
   "source": [
    "**Data Cleaning**\n",
    "**Checking the null values in data set**"
   ]
  },
  {
   "cell_type": "code",
   "execution_count": 6,
   "id": "1ae7090f",
   "metadata": {},
   "outputs": [
    {
     "data": {
      "text/plain": [
       "Transaction_ID      0\n",
       "Date                0\n",
       "Product_Category    0\n",
       "Product_Name        0\n",
       "Units_Sold          0\n",
       "Unit_Price          0\n",
       "Total_Revenue       0\n",
       "Region              0\n",
       "Payment_Method      0\n",
       "dtype: int64"
      ]
     },
     "execution_count": 6,
     "metadata": {},
     "output_type": "execute_result"
    }
   ],
   "source": [
    "df_Sales.isnull().sum()"
   ]
  },
  {
   "cell_type": "markdown",
   "id": "523be3a9-2803-46f8-ab76-037a8a3a7cf4",
   "metadata": {},
   "source": [
    "**Number of columns & rows**"
   ]
  },
  {
   "cell_type": "code",
   "execution_count": 7,
   "id": "7b6f618a",
   "metadata": {},
   "outputs": [
    {
     "data": {
      "text/plain": [
       "(240, 9)"
      ]
     },
     "execution_count": 7,
     "metadata": {},
     "output_type": "execute_result"
    }
   ],
   "source": [
    "df_Sales.shape"
   ]
  },
  {
   "cell_type": "code",
   "execution_count": null,
   "id": "e725db24-89be-40d5-9e5a-b23fc76f8c64",
   "metadata": {},
   "outputs": [],
   "source": []
  },
  {
   "cell_type": "code",
   "execution_count": 8,
   "id": "aa40f67e",
   "metadata": {},
   "outputs": [
    {
     "data": {
      "text/plain": [
       "(240, 9)"
      ]
     },
     "execution_count": 8,
     "metadata": {},
     "output_type": "execute_result"
    }
   ],
   "source": [
    "df_Sales_Nonull = df_Sales.dropna()\n",
    "df_Sales_Nonull.shape"
   ]
  },
  {
   "cell_type": "code",
   "execution_count": null,
   "id": "90347c5d-b931-4a89-ab44-85ff750dea7c",
   "metadata": {},
   "outputs": [],
   "source": []
  },
  {
   "cell_type": "markdown",
   "id": "93ea7ade",
   "metadata": {},
   "source": [
    "**Generating Insights from data set**"
   ]
  },
  {
   "cell_type": "code",
   "execution_count": 9,
   "id": "3bb89bb2",
   "metadata": {},
   "outputs": [
    {
     "data": {
      "text/html": [
       "<div>\n",
       "<style scoped>\n",
       "    .dataframe tbody tr th:only-of-type {\n",
       "        vertical-align: middle;\n",
       "    }\n",
       "\n",
       "    .dataframe tbody tr th {\n",
       "        vertical-align: top;\n",
       "    }\n",
       "\n",
       "    .dataframe thead th {\n",
       "        text-align: right;\n",
       "    }\n",
       "</style>\n",
       "<table border=\"1\" class=\"dataframe\">\n",
       "  <thead>\n",
       "    <tr style=\"text-align: right;\">\n",
       "      <th></th>\n",
       "      <th>Transaction_ID</th>\n",
       "      <th>Date</th>\n",
       "      <th>Units_Sold</th>\n",
       "      <th>Unit_Price</th>\n",
       "      <th>Total_Revenue</th>\n",
       "    </tr>\n",
       "  </thead>\n",
       "  <tbody>\n",
       "    <tr>\n",
       "      <th>count</th>\n",
       "      <td>240.00000</td>\n",
       "      <td>240</td>\n",
       "      <td>240.000000</td>\n",
       "      <td>240.000000</td>\n",
       "      <td>240.000000</td>\n",
       "    </tr>\n",
       "    <tr>\n",
       "      <th>mean</th>\n",
       "      <td>10120.50000</td>\n",
       "      <td>2024-04-29 12:00:00</td>\n",
       "      <td>2.158333</td>\n",
       "      <td>236.395583</td>\n",
       "      <td>335.699375</td>\n",
       "    </tr>\n",
       "    <tr>\n",
       "      <th>min</th>\n",
       "      <td>10001.00000</td>\n",
       "      <td>2024-01-01 00:00:00</td>\n",
       "      <td>1.000000</td>\n",
       "      <td>6.500000</td>\n",
       "      <td>6.500000</td>\n",
       "    </tr>\n",
       "    <tr>\n",
       "      <th>25%</th>\n",
       "      <td>10060.75000</td>\n",
       "      <td>2024-02-29 18:00:00</td>\n",
       "      <td>1.000000</td>\n",
       "      <td>29.500000</td>\n",
       "      <td>62.965000</td>\n",
       "    </tr>\n",
       "    <tr>\n",
       "      <th>50%</th>\n",
       "      <td>10120.50000</td>\n",
       "      <td>2024-04-29 12:00:00</td>\n",
       "      <td>2.000000</td>\n",
       "      <td>89.990000</td>\n",
       "      <td>179.970000</td>\n",
       "    </tr>\n",
       "    <tr>\n",
       "      <th>75%</th>\n",
       "      <td>10180.25000</td>\n",
       "      <td>2024-06-28 06:00:00</td>\n",
       "      <td>3.000000</td>\n",
       "      <td>249.990000</td>\n",
       "      <td>399.225000</td>\n",
       "    </tr>\n",
       "    <tr>\n",
       "      <th>max</th>\n",
       "      <td>10240.00000</td>\n",
       "      <td>2024-08-27 00:00:00</td>\n",
       "      <td>10.000000</td>\n",
       "      <td>3899.990000</td>\n",
       "      <td>3899.990000</td>\n",
       "    </tr>\n",
       "    <tr>\n",
       "      <th>std</th>\n",
       "      <td>69.42622</td>\n",
       "      <td>NaN</td>\n",
       "      <td>1.322454</td>\n",
       "      <td>429.446695</td>\n",
       "      <td>485.804469</td>\n",
       "    </tr>\n",
       "  </tbody>\n",
       "</table>\n",
       "</div>"
      ],
      "text/plain": [
       "       Transaction_ID                 Date  Units_Sold   Unit_Price  \\\n",
       "count       240.00000                  240  240.000000   240.000000   \n",
       "mean      10120.50000  2024-04-29 12:00:00    2.158333   236.395583   \n",
       "min       10001.00000  2024-01-01 00:00:00    1.000000     6.500000   \n",
       "25%       10060.75000  2024-02-29 18:00:00    1.000000    29.500000   \n",
       "50%       10120.50000  2024-04-29 12:00:00    2.000000    89.990000   \n",
       "75%       10180.25000  2024-06-28 06:00:00    3.000000   249.990000   \n",
       "max       10240.00000  2024-08-27 00:00:00   10.000000  3899.990000   \n",
       "std          69.42622                  NaN    1.322454   429.446695   \n",
       "\n",
       "       Total_Revenue  \n",
       "count     240.000000  \n",
       "mean      335.699375  \n",
       "min         6.500000  \n",
       "25%        62.965000  \n",
       "50%       179.970000  \n",
       "75%       399.225000  \n",
       "max      3899.990000  \n",
       "std       485.804469  "
      ]
     },
     "execution_count": 9,
     "metadata": {},
     "output_type": "execute_result"
    }
   ],
   "source": [
    "df_Sales.describe()"
   ]
  },
  {
   "cell_type": "code",
   "execution_count": null,
   "id": "557ae77e-ece4-48ac-aba6-f9a17120415a",
   "metadata": {},
   "outputs": [],
   "source": []
  },
  {
   "cell_type": "markdown",
   "id": "24816795",
   "metadata": {},
   "source": [
    "**Product wise sales**"
   ]
  },
  {
   "cell_type": "code",
   "execution_count": 50,
   "id": "2e0b855a",
   "metadata": {},
   "outputs": [
    {
     "data": {
      "text/plain": [
       "Product_Category\n",
       "Beauty Products     65.54750\n",
       "Books               46.54825\n",
       "Clothing           203.22325\n",
       "Electronics        874.56025\n",
       "Home Appliances    466.15400\n",
       "Sports             358.16300\n",
       "Name: Total_Revenue, dtype: float64"
      ]
     },
     "execution_count": 50,
     "metadata": {},
     "output_type": "execute_result"
    }
   ],
   "source": [
    "df_Sales.groupby(\"Product_Category\")[\"Total_Revenue\"].mean()"
   ]
  },
  {
   "cell_type": "code",
   "execution_count": 40,
   "id": "c836a0c3-1f67-487a-8550-e95dc0667d82",
   "metadata": {},
   "outputs": [
    {
     "data": {
      "image/png": "[encoded data removed]",
      "text/plain": [
       "<Figure size 640x480 with 1 Axes>"
      ]
     },
     "metadata": {},
     "output_type": "display_data"
    }
   ],
   "source": [
    "import matplotlib.pyplot as plt\n",
    "df_product_category = df_Sales.groupby(\"Product_Category\")[\"Total_Revenue\"].sum()\n",
    "df_product_category = df_product_category.sort_values(ascending=False)\n",
    "\n",
    "df_product_category.plot(kind=\"line\")\n",
    "    \n",
    "plt.xlabel(\"Product Category\")\n",
    "plt.ylabel(\"Total Revenue\")\n",
    "plt.title(\"Total Revenue by Product Category\")\n",
    "\n",
    "plt.show()"
   ]
  },
  {
   "cell_type": "markdown",
   "id": "4ef7af61-b54d-4870-9321-f4393706ae8b",
   "metadata": {},
   "source": [
    "**Average sales by all Region**"
   ]
  },
  {
   "cell_type": "code",
   "execution_count": 51,
   "id": "1047f871",
   "metadata": {},
   "outputs": [
    {
     "data": {
      "text/plain": [
       "Region\n",
       "Asia             280.693125\n",
       "Europe           265.850750\n",
       "North America    460.554250\n",
       "Name: Total_Revenue, dtype: float64"
      ]
     },
     "execution_count": 51,
     "metadata": {},
     "output_type": "execute_result"
    }
   ],
   "source": [
    "df_Sales.groupby(\"Region\")[\"Total_Revenue\"].mean()"
   ]
  },
  {
   "cell_type": "code",
   "execution_count": 26,
   "id": "89ee49d5-8e1f-41b7-97ee-323f15960911",
   "metadata": {},
   "outputs": [
    {
     "data": {
      "image/png": "[encoded data removed]",
      "text/plain": [
       "<Figure size 640x480 with 1 Axes>"
      ]
     },
     "metadata": {},
     "output_type": "display_data"
    }
   ],
   "source": [
    "df_Region_Sales = df_Sales.groupby(\"Region\")[\"Total_Revenue\"].mean()\n",
    "df_Region_Sales = df_Region_Sales.sort_values(ascending = True)\n",
    "colors = [\"#B553B2\",\"#A762B4\",\"#CF73AD\"]\n",
    "df_Region_Sales.plot(kind= \"bar\", color =colors[:len(df_Region_Sales)])\n",
    "\n",
    "plt.xlabel(\"Region\")\n",
    "plt.ylabel(\"Average Revenue\")\n",
    "plt.title(\"Average Revenue by all Region\")\n",
    "plt.show()"
   ]
  },
  {
   "cell_type": "markdown",
   "id": "4e507fb3-8b38-4297-a79c-3b85a268cd73",
   "metadata": {},
   "source": [
    "**Maximum Revenue**"
   ]
  },
  {
   "cell_type": "code",
   "execution_count": 52,
   "id": "5c00088e",
   "metadata": {},
   "outputs": [
    {
     "data": {
      "text/plain": [
       "3899.99"
      ]
     },
     "execution_count": 52,
     "metadata": {},
     "output_type": "execute_result"
    }
   ],
   "source": [
    "df_Sales[\"Total_Revenue\"].max()"
   ]
  },
  {
   "cell_type": "markdown",
   "id": "806870d1-a085-4f67-8d5d-1838ee882cd6",
   "metadata": {},
   "source": [
    "**Revenue by Payment Methods**"
   ]
  },
  {
   "cell_type": "code",
   "execution_count": 54,
   "id": "c555dada",
   "metadata": {},
   "outputs": [
    {
     "data": {
      "text/plain": [
       "<Axes: ylabel='Total_Revenue'>"
      ]
     },
     "execution_count": 54,
     "metadata": {},
     "output_type": "execute_result"
    },
    {
     "data": {
      "image/png": "[encoded data removed]",
      "text/plain": [
       "<Figure size 640x480 with 1 Axes>"
      ]
     },
     "metadata": {},
     "output_type": "display_data"
    }
   ],
   "source": [
    "df_Sales.groupby(\"Payment_Method\")[\"Total_Revenue\"].sum().plot(kind=\"pie\")\n"
   ]
  },
  {
   "cell_type": "markdown",
   "id": "a149dc8a-d49e-4466-af55-5c584450bf62",
   "metadata": {},
   "source": [
    "**Total Units Sold**"
   ]
  },
  {
   "cell_type": "code",
   "execution_count": 48,
   "id": "86514167-5cb7-4122-8f16-ce5d45942e33",
   "metadata": {},
   "outputs": [
    {
     "data": {
      "text/plain": [
       "518"
      ]
     },
     "execution_count": 48,
     "metadata": {},
     "output_type": "execute_result"
    }
   ],
   "source": [
    "df_Sales[\"Units_Sold\"].sum()"
   ]
  },
  {
   "cell_type": "markdown",
   "id": "fcc1a9c9-736d-4e47-a472-aad13bed1155",
   "metadata": {},
   "source": [
    "**Total Units Sold per Product Category**"
   ]
  },
  {
   "cell_type": "code",
   "execution_count": 51,
   "id": "979b8b15-0c7c-422c-96ac-47af644d4744",
   "metadata": {},
   "outputs": [
    {
     "data": {
      "text/plain": [
       "Product_Category\n",
       "Beauty Products     46\n",
       "Books              114\n",
       "Clothing           145\n",
       "Electronics         66\n",
       "Home Appliances     59\n",
       "Sports              88\n",
       "Name: Units_Sold, dtype: int64"
      ]
     },
     "execution_count": 51,
     "metadata": {},
     "output_type": "execute_result"
    }
   ],
   "source": [
    "df_Sales.groupby(\"Product_Category\")[\"Units_Sold\"].sum()"
   ]
  },
  {
   "cell_type": "markdown",
   "id": "67620d60-0c4b-4039-a1cc-4481fd03f8eb",
   "metadata": {},
   "source": [
    "**Total Units Sold by each payment method**"
   ]
  },
  {
   "cell_type": "code",
   "execution_count": 60,
   "id": "a19f8cb7",
   "metadata": {},
   "outputs": [
    {
     "data": {
      "text/plain": [
       "Payment_Method\n",
       "Credit Card    268\n",
       "Debit Card     145\n",
       "PayPal         105\n",
       "Name: Units_Sold, dtype: int64"
      ]
     },
     "execution_count": 60,
     "metadata": {},
     "output_type": "execute_result"
    }
   ],
   "source": [
    "df_Sales.groupby(\"Payment_Method\")[\"Units_Sold\"].sum()\n"
   ]
  },
  {
   "cell_type": "code",
   "execution_count": null,
   "id": "2d9bc541",
   "metadata": {},
   "outputs": [],
   "source": []
  }
 ],
 "metadata": {
  "kernelspec": {
   "display_name": "Python 3 (ipykernel)",
   "language": "python",
   "name": "python3"
  },
  "language_info": {
   "codemirror_mode": {
    "name": "ipython",
    "version": 3
   },
   "file_extension": ".py",
   "mimetype": "text/x-python",
   "name": "python",
   "nbconvert_exporter": "python",
   "pygments_lexer": "ipython3",
   "version": "3.12.4"
  }
 },
 "nbformat": 4,
 "nbformat_minor": 5
}
